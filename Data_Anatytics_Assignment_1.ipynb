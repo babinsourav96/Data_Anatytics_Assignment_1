{
  "nbformat": 4,
  "nbformat_minor": 0,
  "metadata": {
    "colab": {
      "provenance": []
    },
    "kernelspec": {
      "name": "python3",
      "display_name": "Python 3"
    },
    "language_info": {
      "name": "python"
    }
  },
  "cells": [
    {
      "cell_type": "markdown",
      "source": [
        "#Python Basics Questions-\n",
        "1. What is Python, and why is it popular?\n",
        "\n",
        "  - Python is a popular, versatile, and high-level programming language known for its readability and simplicity. It's widely used in various fields like web development, data science, machine learning, and automation. Its popularity stems from its ease of learning, extensive libraries, and active community, making it a powerful tool for both beginners and experienced developers.\n",
        "\n",
        "    Reasons for Popularity :\n",
        "    - Readability and Simplicity- Python's syntax is designed to be easy to read and understand, making it beginner-friendly and efficient for developers.\n",
        "    - Extensive Libraries - Python has a rich ecosystem of libraries and frameworks that simplify tasks in various domains like data analysis, machine learning, and web development.\n",
        "    - Versatility - Python can be used for a wide range of applications, from building websites and software to automating tasks and conducting data analysis.\n",
        "    - Large and Active Community - Python boasts a large and supportive community, providing developers with resources, documentation, and assistance.\n",
        "    - Open Source and Free - Python is free to use and distribute, making it accessible to everyone.\n",
        "    - Dynamic Typing - Python is dynamically typed, meaning you don't need to declare variable types explicitly, making code writing faster and more flexible.\n",
        "    - Interpreted Language - Python is an interpreted language, meaning code is executed line by line, making debugging easier."
      ],
      "metadata": {
        "id": "474UrqQa_Fcm"
      }
    },
    {
      "cell_type": "markdown",
      "source": [
        "2. What is an interpreter in Python?\n",
        "  - Interpreter is a program that reads and executes Python Code line by line without requiring it to be compiled into machine code beforehand.\n",
        "\n"
      ],
      "metadata": {
        "id": "A-SKiDQJimPI"
      }
    },
    {
      "cell_type": "markdown",
      "source": [
        "3. What are pre-defined keywords in Python?\n",
        "  - Keywords are reserved words in Python that have a special meaning and cannot be used as identifiers. Keywords are case-sensitive and cannot be redefined or overridden within a Python program.\n",
        "  Example - include if, else, while, for, true, false, none, etc."
      ],
      "metadata": {
        "id": "TZjdIeCqiiDT"
      }
    },
    {
      "cell_type": "markdown",
      "source": [
        "4. Can keywords be used as variable names?\n",
        "  - No, keywords cannot be used as variable names in Python. Keywords are reserved words that have specific meanings in the language's syntax and are used to define the structure and logic of the code. Using a keyword as a variable name will result in a syntax error."
      ],
      "metadata": {
        "id": "_txb1CTnkxUm"
      }
    },
    {
      "cell_type": "markdown",
      "source": [
        "5. What is mutability in Python?\n",
        "- Mutability refers to an object's ability to be modified after it is created. Objects that can be changed are called mutable. Common mutable data types in Python include:\n",
        "  - Lists: Elements can be added, removed, or modified.\n",
        "  - Dictionaries: Key-value pairs can be added, removed, or updated.\n",
        "  - Sets: Elements can be added or removed."
      ],
      "metadata": {
        "id": "BmdzcFSplTq7"
      }
    },
    {
      "cell_type": "markdown",
      "source": [
        "6. Why are lists mutable, but tuples are immutable?\n",
        "  - Tuples use parentheses instead of square brackets and the items in tuples cannot be modified but the items in lists can be modified. We often call lists mutable meaning they can be changed and tuples immutable meaning they cannot be changed."
      ],
      "metadata": {
        "id": "Z7qs2mtAmIuL"
      }
    },
    {
      "cell_type": "markdown",
      "source": [
        "7. What is the difference between \"==\" and \"is\" operators in Python?\n",
        "  - == (Equality Operator):\n",
        "    - Compares the values of two objects.\n",
        "    - Returns True if the values are equal, regardless of whether they are the same object in memory.\n",
        "    - Focuses on the content or data held by the objects.\n",
        "  - is (Identity Operator):\n",
        "    - Checks if two variables refer to the same object in memory.\n",
        "    - Returns True only if both variables point to the exact same object.\n",
        "    - Focuses on whether the references are identical, not just if the values are equal."
      ],
      "metadata": {
        "id": "Za24CvGXnzMo"
      }
    },
    {
      "cell_type": "markdown",
      "source": [
        "8. What are logical operators in Python?\n",
        "  - Logical operators are used to perform logical operations on Boolean values, returning a Boolean result (True or False). There are three main logical operators: and, or, and not. These operators are also known as Boolean operators because they deal with truth values.\n",
        "  \n",
        "    - and: Returns True if both operands are True; otherwise, it returns False.\n",
        "    - or: Returns True if at least one of the operands is True; otherwise, it returns False.\n",
        "    - not: Returns the opposite of the operand's value. If the operand is True, not returns False, and vice versa."
      ],
      "metadata": {
        "id": "FwqYigB4pVeW"
      }
    },
    {
      "cell_type": "markdown",
      "source": [
        "9. What is type casting in Python?\n",
        "  - Type casting, also known as type conversion, is the process of changing the data type of a variable into another data type. It is used to ensure compatibility between different data types and allows for flexible operations and data manipulation within a program.\n",
        "                     "
      ],
      "metadata": {
        "id": "c47Q7p9SqEec"
      }
    },
    {
      "cell_type": "markdown",
      "source": [
        "10. What is the difference between implicit and explicit type casting?\n",
        "  - Implicit type casting, also known as widening or upcasting, is when the compiler automatically converts a data type to a larger or more inclusive type.\n",
        "  - Explicit type casting, also called narrowing or downcasting, requires the programmer to use a cast operator to manually convert a data type to a smaller or less inclusive type."
      ],
      "metadata": {
        "id": "XIV1LY-iquj5"
      }
    },
    {
      "cell_type": "markdown",
      "source": [
        "11. What is the purpose of conditional statements in Python?\n",
        "  - Conditional in Python are used to execute code based on the evaluation of one or more conditions. Python supports conditional statements such as if, elif(elseif), if-elif-else and nestedif-else to control ,the flow of execution.  "
      ],
      "metadata": {
        "id": "WBumfKXJrXQx"
      }
    },
    {
      "cell_type": "markdown",
      "source": [
        "12. How does the elif statement work?\n",
        "- 'Elif' stands for 'else if' and is used in Python programming to test multiple conditions. It is written following an if statement in Python to check an alternative condition if the first condition is false. The code block under the elif statement will be executed only if its condition is true."
      ],
      "metadata": {
        "id": "mwPKS7x1bkeV"
      }
    },
    {
      "cell_type": "markdown",
      "source": [
        "13. What is the difference between for and while loops?\n",
        "- The main difference between a for loop and a while loop is that for loops are used when the number of iterations is known or can be determined beforehand, while while loops are used when the number of iterations depends on a dynamic condition that might change during the loop's execution."
      ],
      "metadata": {
        "id": "n4MYut3kcvlQ"
      }
    },
    {
      "cell_type": "markdown",
      "source": [
        "14. Describe a scenario where a while loop is more suitable than a for loop?\n",
        "- While using a Python program, while loops are far superior. Python's for loops require a sequence to iterate through and they make an unnecessary copy of the sequence in many cases, so if we iterate through something large, even though we know number of iterations, code would be more optimal with a while loop."
      ],
      "metadata": {
        "id": "2Ib1ROyAd4jE"
      }
    },
    {
      "cell_type": "markdown",
      "source": [
        "#Practical Questions"
      ],
      "metadata": {
        "id": "7eRZXl2ff63i"
      }
    },
    {
      "cell_type": "code",
      "source": [
        "# Write a Python program to print \"Hello,World!\"\n",
        "\n",
        "print (\"Hello,World\")\n"
      ],
      "metadata": {
        "colab": {
          "base_uri": "https://localhost:8080/"
        },
        "id": "7ItyE5swgMNf",
        "outputId": "c3871017-720a-495e-9831-927e4c928d48"
      },
      "execution_count": 25,
      "outputs": [
        {
          "output_type": "stream",
          "name": "stdout",
          "text": [
            "Hello,World\n"
          ]
        }
      ]
    },
    {
      "cell_type": "code",
      "source": [
        "# Write a Python program that displays your name and age.\n",
        "\n",
        "name= input(\"My name is \")\n",
        "age= input(\"My age is \")"
      ],
      "metadata": {
        "colab": {
          "base_uri": "https://localhost:8080/"
        },
        "id": "h0vi94kfhlG-",
        "outputId": "0a7315b1-c5d2-4eb1-ef6d-5cc4d89bef2c"
      },
      "execution_count": 26,
      "outputs": [
        {
          "name": "stdout",
          "output_type": "stream",
          "text": [
            "My name is SOURAV MAZUMDER\n",
            "My age is 29\n"
          ]
        }
      ]
    },
    {
      "cell_type": "code",
      "source": [
        "# Write code to print all the pre-defined keywords in Python using the keyword library.\n",
        "\n",
        "import keyword\n",
        "print (keyword.kwlist)"
      ],
      "metadata": {
        "colab": {
          "base_uri": "https://localhost:8080/"
        },
        "id": "YunprT0TiU0w",
        "outputId": "c2fa7ac3-22e8-45d1-fd01-2c77337996c2"
      },
      "execution_count": 27,
      "outputs": [
        {
          "output_type": "stream",
          "name": "stdout",
          "text": [
            "['False', 'None', 'True', 'and', 'as', 'assert', 'async', 'await', 'break', 'class', 'continue', 'def', 'del', 'elif', 'else', 'except', 'finally', 'for', 'from', 'global', 'if', 'import', 'in', 'is', 'lambda', 'nonlocal', 'not', 'or', 'pass', 'raise', 'return', 'try', 'while', 'with', 'yield']\n"
          ]
        }
      ]
    },
    {
      "cell_type": "code",
      "source": [
        "# Write a program that checks if a given word is a Python keyword.\n",
        "\n",
        "import keyword\n",
        "\n",
        "def is_python_keyword(word):\n",
        "  \"\"\"\n",
        "  Checks if a given word is a Python keyword.\n",
        "\n",
        "  Args:\n",
        "    word: The string to be checked.\n",
        "\n",
        "  Returns:\n",
        "    True if the word is a Python keyword, False otherwise.\n",
        "  \"\"\"\n",
        "  return keyword.iskeyword(word)\n",
        "\n",
        "# Example usage:\n",
        "word1 = \"while\"\n",
        "word2 = \"my_variable\"\n",
        "word3 = \"True\"\n",
        "word4 = \"function\"\n",
        "\n",
        "print(f\"'{word1}' is a Python keyword: {is_python_keyword(word1)}\")\n",
        "print(f\"'{word2}' is a Python keyword: {is_python_keyword(word2)}\")\n",
        "print(f\"'{word3}' is a Python keyword: {is_python_keyword(word3)}\")\n",
        "print(f\"'{word4}' is a Python keyword: {is_python_keyword(word4)}\")\n"
      ],
      "metadata": {
        "colab": {
          "base_uri": "https://localhost:8080/"
        },
        "id": "lzQzEl-TkHmf",
        "outputId": "933255a3-bbeb-4b4d-c971-25bb34dd7d08"
      },
      "execution_count": 28,
      "outputs": [
        {
          "output_type": "stream",
          "name": "stdout",
          "text": [
            "'while' is a Python keyword: True\n",
            "'my_variable' is a Python keyword: False\n",
            "'True' is a Python keyword: True\n",
            "'function' is a Python keyword: False\n"
          ]
        }
      ]
    },
    {
      "cell_type": "code",
      "source": [
        "# Create a list and tuple in Python, and demonstrate how attempting to change an element works differently for each.\n",
        "\n",
        "# Creating a list\n",
        "my_list = [10, 20, 30, 40]\n",
        "print(f\"Original list: {my_list}\")\n",
        "\n",
        "# Attempting to change an element in the list\n",
        "my_list[1] = 25\n",
        "print(f\"Modified list: {my_list}\")\n",
        "\n",
        "# Creating a tuple\n",
        "my_tuple = (100, 200, 300, 400)\n",
        "print(f\"Original tuple: {my_tuple}\")\n",
        "\n",
        "# Attempting to change an element in the tuple\n",
        "try:\n",
        "    my_tuple[1] = 250\n",
        "except TypeError as e:\n",
        "    print(f\"Error when attempting to modify tuple: {e}\")"
      ],
      "metadata": {
        "colab": {
          "base_uri": "https://localhost:8080/"
        },
        "id": "5zxqSgrroY8S",
        "outputId": "f7262e4a-dc2f-4542-d58d-6607cc0271e9"
      },
      "execution_count": 29,
      "outputs": [
        {
          "output_type": "stream",
          "name": "stdout",
          "text": [
            "Original list: [10, 20, 30, 40]\n",
            "Modified list: [10, 25, 30, 40]\n",
            "Original tuple: (100, 200, 300, 400)\n",
            "Error when attempting to modify tuple: 'tuple' object does not support item assignment\n"
          ]
        }
      ]
    },
    {
      "cell_type": "code",
      "source": [
        "# Write a function to demonstrate the behavior of mutable and immutable arguments.\n",
        "\n",
        "food = [\"Eggs\", \"Milk\", \"Bread\"]\n",
        "food"
      ],
      "metadata": {
        "colab": {
          "base_uri": "https://localhost:8080/"
        },
        "id": "mpPDqpD9o7k9",
        "outputId": "b51a457d-f9c5-4fbd-d79f-b39cfd191f4e"
      },
      "execution_count": 32,
      "outputs": [
        {
          "output_type": "execute_result",
          "data": {
            "text/plain": [
              "['Eggs', 'Milk', 'Bread']"
            ]
          },
          "metadata": {},
          "execution_count": 32
        }
      ]
    },
    {
      "cell_type": "code",
      "source": [
        "food.append(\"Chocolate\")\n",
        "food"
      ],
      "metadata": {
        "colab": {
          "base_uri": "https://localhost:8080/"
        },
        "id": "icsS0dv5pvwV",
        "outputId": "5cec3f75-7970-499d-d775-56769894ef1d"
      },
      "execution_count": 33,
      "outputs": [
        {
          "output_type": "execute_result",
          "data": {
            "text/plain": [
              "['Eggs', 'Milk', 'Bread', 'Chocolate']"
            ]
          },
          "metadata": {},
          "execution_count": 33
        }
      ]
    },
    {
      "cell_type": "code",
      "source": [
        "# Write a program that performs basic arithmetic operations on two user-input numbers.\n",
        "\n",
        "a=30\n",
        "b=10\n",
        "print(a+b)\n",
        "print(a-b)\n",
        "print(a*b)\n",
        "print(a/b)\n",
        "print(a%b)\n",
        "\n",
        "\n"
      ],
      "metadata": {
        "colab": {
          "base_uri": "https://localhost:8080/"
        },
        "id": "4jXdhUxlsHNQ",
        "outputId": "39be4aad-9f0b-426b-f9d8-bab3277251cf"
      },
      "execution_count": 35,
      "outputs": [
        {
          "output_type": "stream",
          "name": "stdout",
          "text": [
            "40\n",
            "20\n",
            "300\n",
            "3.0\n",
            "0\n"
          ]
        }
      ]
    },
    {
      "cell_type": "code",
      "source": [
        "# Write a program to demonstrate the use of logical operators.\n",
        "\n",
        "#Or Operator\n",
        "age = 20\n",
        "income = 20000\n",
        "if age >= 18 or income >=15000:\n",
        "  print(\"You are eligible for the loan\")\n",
        "else:\n",
        "  print(\"You are not eligible\")"
      ],
      "metadata": {
        "colab": {
          "base_uri": "https://localhost:8080/"
        },
        "id": "6LP_f57PugSv",
        "outputId": "0b5a60fe-4258-43c0-f30c-0d167ad8e3b9"
      },
      "execution_count": 57,
      "outputs": [
        {
          "output_type": "stream",
          "name": "stdout",
          "text": [
            "You are eligible for the loan\n"
          ]
        }
      ]
    },
    {
      "cell_type": "code",
      "source": [
        "#And Operator\n",
        "age = 40\n",
        "income = 10000\n",
        "if age >= 18 and income >=15000:\n",
        "  print(\"You are eligible for the loan\")\n",
        "else:\n",
        "  print(\"You are not eligible\")"
      ],
      "metadata": {
        "colab": {
          "base_uri": "https://localhost:8080/"
        },
        "id": "HwtW3h9hvRPc",
        "outputId": "92b180a5-27b3-43ad-94f6-d9617f94bbcb"
      },
      "execution_count": 54,
      "outputs": [
        {
          "output_type": "stream",
          "name": "stdout",
          "text": [
            "You are not eligible\n"
          ]
        }
      ]
    },
    {
      "cell_type": "code",
      "source": [
        "# Write a Python program to convert user input from string to integer, float, and boolean types.\n",
        "\n",
        "a = \"2\"\n",
        "type(a)\n"
      ],
      "metadata": {
        "colab": {
          "base_uri": "https://localhost:8080/"
        },
        "id": "QocmWmWzydIH",
        "outputId": "99dafceb-921c-4bf1-fff1-1c43d0ef2b2f"
      },
      "execution_count": 71,
      "outputs": [
        {
          "output_type": "execute_result",
          "data": {
            "text/plain": [
              "str"
            ]
          },
          "metadata": {},
          "execution_count": 71
        }
      ]
    },
    {
      "cell_type": "code",
      "source": [
        "a = 2\n",
        "type(a)"
      ],
      "metadata": {
        "colab": {
          "base_uri": "https://localhost:8080/"
        },
        "id": "wW23IbKFzp9p",
        "outputId": "dbce875f-ff92-4cd9-f2ce-bdb2729cded7"
      },
      "execution_count": 72,
      "outputs": [
        {
          "output_type": "execute_result",
          "data": {
            "text/plain": [
              "int"
            ]
          },
          "metadata": {},
          "execution_count": 72
        }
      ]
    },
    {
      "cell_type": "code",
      "source": [
        "a = 2.0\n",
        "type(a)"
      ],
      "metadata": {
        "colab": {
          "base_uri": "https://localhost:8080/"
        },
        "id": "6pRR4Qn60zpT",
        "outputId": "2c55e5a8-6004-4a81-9037-56ba2931f1ca"
      },
      "execution_count": 73,
      "outputs": [
        {
          "output_type": "execute_result",
          "data": {
            "text/plain": [
              "float"
            ]
          },
          "metadata": {},
          "execution_count": 73
        }
      ]
    },
    {
      "cell_type": "code",
      "source": [
        "a = True\n",
        "type(a)"
      ],
      "metadata": {
        "colab": {
          "base_uri": "https://localhost:8080/"
        },
        "id": "Y43WnhnE3MaI",
        "outputId": "e289a763-1b2e-4fdc-df95-b1af789aabc6"
      },
      "execution_count": 74,
      "outputs": [
        {
          "output_type": "execute_result",
          "data": {
            "text/plain": [
              "bool"
            ]
          },
          "metadata": {},
          "execution_count": 74
        }
      ]
    },
    {
      "cell_type": "code",
      "source": [
        "# Write code to demonstrate type casting with list elements.\n",
        "\n",
        "a = [1, 4, 9, 10, 19]\n",
        "b = [[5, 6, 8], [8, 5, 3], [9, 10, 3]]\n",
        "\n",
        "c = [str(x) for x in a]\n",
        "d = [[str(x) for x in sub] for sub in b]\n",
        "\n",
        "print(c)\n",
        "print(d)\n"
      ],
      "metadata": {
        "colab": {
          "base_uri": "https://localhost:8080/"
        },
        "id": "nEZ7V4Q43gnT",
        "outputId": "8132a0d3-35d9-448a-a028-6a6ee971a814"
      },
      "execution_count": 75,
      "outputs": [
        {
          "output_type": "stream",
          "name": "stdout",
          "text": [
            "['1', '4', '9', '10', '19']\n",
            "[['5', '6', '8'], ['8', '5', '3'], ['9', '10', '3']]\n"
          ]
        }
      ]
    },
    {
      "cell_type": "code",
      "source": [
        "# Write a program that checks if a number is positive, negative, or zero.\n",
        "\n",
        "num = float(input(\"Enter a number: \"))\n",
        "if num > 0:\n",
        "  print (\"The number is positive\")\n",
        "elif num == 0:\n",
        "  print (\"The number is zero\")\n",
        "else:\n",
        "  print (\"The number is negative\")"
      ],
      "metadata": {
        "colab": {
          "base_uri": "https://localhost:8080/"
        },
        "id": "XLPK3cfp4eYU",
        "outputId": "9c679608-ba7a-473c-aefe-3230ffe15875"
      },
      "execution_count": 86,
      "outputs": [
        {
          "output_type": "stream",
          "name": "stdout",
          "text": [
            "Enter a number: 2\n",
            "The number is positive\n"
          ]
        }
      ]
    },
    {
      "cell_type": "code",
      "source": [
        "num = float(input(\"Enter a number: \"))\n",
        "if num > 0:\n",
        "  print (\"The number is positive\")\n",
        "elif num == 0:\n",
        "  print (\"The number is zero\")\n",
        "else:\n",
        "  print (\"The number is negative\")"
      ],
      "metadata": {
        "colab": {
          "base_uri": "https://localhost:8080/"
        },
        "id": "tImiQVbX59QY",
        "outputId": "8276d01f-def5-4cb6-99a7-b0da55b940aa"
      },
      "execution_count": 87,
      "outputs": [
        {
          "output_type": "stream",
          "name": "stdout",
          "text": [
            "Enter a number: -1\n",
            "The number is negative\n"
          ]
        }
      ]
    },
    {
      "cell_type": "code",
      "source": [
        "num = float(input(\"Enter a number: \"))\n",
        "if num > 0:\n",
        "  print (\"The number is positive\")\n",
        "elif num == 0:\n",
        "  print (\"The number is zero\")\n",
        "else:\n",
        "  print (\"The number is negative\")"
      ],
      "metadata": {
        "colab": {
          "base_uri": "https://localhost:8080/"
        },
        "id": "MYYNlGyK6xMP",
        "outputId": "167e08e7-2b8e-4541-ad5f-02a6315c518c"
      },
      "execution_count": 88,
      "outputs": [
        {
          "output_type": "stream",
          "name": "stdout",
          "text": [
            "Enter a number: 0\n",
            "The number is zero\n"
          ]
        }
      ]
    },
    {
      "cell_type": "code",
      "source": [
        "# Write a for loop to print numbers from 1 to 10.\n",
        "\n",
        "for i in range(1, 11):\n",
        "  print (i)"
      ],
      "metadata": {
        "colab": {
          "base_uri": "https://localhost:8080/"
        },
        "id": "idV3FLa862v2",
        "outputId": "293f8a76-fcd2-4b00-c9f4-9b569f3c9d84"
      },
      "execution_count": 96,
      "outputs": [
        {
          "output_type": "stream",
          "name": "stdout",
          "text": [
            "1\n",
            "2\n",
            "3\n",
            "4\n",
            "5\n",
            "6\n",
            "7\n",
            "8\n",
            "9\n",
            "10\n"
          ]
        }
      ]
    },
    {
      "cell_type": "code",
      "source": [
        "# Write a Python program to find the sum of all even numbers between 1 and 50.\n",
        "\n",
        "total_sum = 0\n",
        "for number in range(1, 51):  # Iterate from 1 to 50 (inclusive)\n",
        "    if number % 2 == 0:  # Check if the number is even\n",
        "        total_sum += number\n",
        "print(f\"The sum of even numbers between 1 and 50 is: {total_sum}\")"
      ],
      "metadata": {
        "colab": {
          "base_uri": "https://localhost:8080/"
        },
        "id": "QKjnPRie_oG8",
        "outputId": "f271026c-f334-447c-cee0-c6f7db459253"
      },
      "execution_count": 97,
      "outputs": [
        {
          "output_type": "stream",
          "name": "stdout",
          "text": [
            "The sum of even numbers between 1 and 50 is: 650\n"
          ]
        }
      ]
    },
    {
      "cell_type": "code",
      "source": [
        "# Write a program to reverse a string using a while loop.\n",
        "\n",
        "name= str((input(\"Enter the name: \")))\n",
        "i = len(name) - 1\n",
        "\n",
        "while i >= 0:\n",
        "    print(name[i], end = '')\n",
        "    i = i - 1"
      ],
      "metadata": {
        "colab": {
          "base_uri": "https://localhost:8080/"
        },
        "id": "xAF7VqpmCtVj",
        "outputId": "1fddbaf7-f59f-46c8-b32b-b4cb83fa4a7a"
      },
      "execution_count": 102,
      "outputs": [
        {
          "output_type": "stream",
          "name": "stdout",
          "text": [
            "Enter the name: SOURAV\n",
            "VARUOS"
          ]
        }
      ]
    },
    {
      "cell_type": "code",
      "source": [
        "#  Write a Python program to calculate the factorial of a number provided by the user using a while loop.\n",
        "\n",
        "num = 7\n",
        "num = int(input(\"Enter a number: \"))\n",
        "\n",
        "factorial = 1\n",
        "\n",
        "# check if the number is negative, positive or zero\n",
        "if num < 0:\n",
        "   print(\"Sorry, factorial does not exist for negative numbers\")\n",
        "elif num == 0:\n",
        "   print(\"The factorial of 0 is 1\")\n",
        "else:\n",
        "   for i in range(1,num + 1):\n",
        "       factorial = factorial*i\n",
        "   print(\"The factorial of\",num,\"is\",factorial)\n"
      ],
      "metadata": {
        "colab": {
          "base_uri": "https://localhost:8080/"
        },
        "id": "M20Kdb0MEYUA",
        "outputId": "bcacae4e-28fa-4618-cfae-aa3d75dd1a1a"
      },
      "execution_count": 108,
      "outputs": [
        {
          "output_type": "stream",
          "name": "stdout",
          "text": [
            "Enter a number: 7\n",
            "The factorial of 7 is 5040\n"
          ]
        }
      ]
    }
  ]
}